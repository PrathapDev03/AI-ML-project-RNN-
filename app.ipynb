{
 "cells": [
  {
   "cell_type": "code",
   "execution_count": 3,
   "id": "abbf84ef-d4c6-439b-a9ab-c21839f5b702",
   "metadata": {},
   "outputs": [
    {
     "name": "stderr",
     "output_type": "stream",
     "text": [
      "2025-09-24 11:36:52.681 \n",
      "  \u001b[33m\u001b[1mWarning:\u001b[0m to view this Streamlit app on a browser, run it with the following\n",
      "  command:\n",
      "\n",
      "    streamlit run C:\\anconda\\Lib\\site-packages\\ipykernel_launcher.py [ARGUMENTS]\n",
      "2025-09-24 11:36:52.686 Session state does not function when running a script without `streamlit run`\n"
     ]
    }
   ],
   "source": [
    "import streamlit as st\n",
    "import joblib\n",
    "\n",
    "# Load your trained model\n",
    "model = joblib.load(\"/mnt/data/models_reply_classifier/baseline_logreg_tfidf.joblib\")  # Replace with your model path\n",
    "\n",
    "# App title\n",
    "st.title(\"Text Sentiment Prediction\")\n",
    "st.write(\"Enter text below and get sentiment prediction:\")\n",
    "\n",
    "# Text input\n",
    "user_input = st.text_area(\"Your Text Here:\")\n",
    "\n",
    "# Predict button\n",
    "if st.button(\"Predict\"):\n",
    "    if user_input.strip() == \"\":\n",
    "        st.warning(\"Please enter some text!\")\n",
    "    else:\n",
    "        # Model expects list of texts\n",
    "        text = [user_input]\n",
    "        label = model.predict(text)[0]\n",
    "        confidence = max(model.predict_proba(text)[0])\n",
    "\n",
    "        st.success(f\"**Prediction:** {label}\")\n",
    "        st.info(f\"**Confidence:** {confidence:.2f}\")\n"
   ]
  },
  {
   "cell_type": "code",
   "execution_count": null,
   "id": "63e1269a-c5a0-4336-b5ce-e4b18ee04b5b",
   "metadata": {},
   "outputs": [],
   "source": []
  }
 ],
 "metadata": {
  "kernelspec": {
   "display_name": "Python [conda env:base] *",
   "language": "python",
   "name": "conda-base-py"
  },
  "language_info": {
   "codemirror_mode": {
    "name": "ipython",
    "version": 3
   },
   "file_extension": ".py",
   "mimetype": "text/x-python",
   "name": "python",
   "nbconvert_exporter": "python",
   "pygments_lexer": "ipython3",
   "version": "3.12.7"
  }
 },
 "nbformat": 4,
 "nbformat_minor": 5
}
